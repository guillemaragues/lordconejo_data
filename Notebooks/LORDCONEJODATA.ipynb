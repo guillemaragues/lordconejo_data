{
  "nbformat": 4,
  "nbformat_minor": 0,
  "metadata": {
    "colab": {
      "provenance": []
    },
    "kernelspec": {
      "name": "python3",
      "display_name": "Python 3"
    },
    "language_info": {
      "name": "python"
    }
  },
  "cells": [
    {
      "cell_type": "markdown",
      "source": [],
      "metadata": {
        "id": "DKXjruLKewaM"
      }
    },
    {
      "cell_type": "markdown",
      "source": [
        "# LORD CONEJO DATA"
      ],
      "metadata": {
        "id": "Pm84sva6u0hZ"
      }
    },
    {
      "cell_type": "markdown",
      "source": [
        "\n",
        "\n",
        "| Month     | Date       | Day of the Week | Daily Followers | Accumulated Followers | Content Type |\n",
        "|-----------|------------|-----------------|-----------------|-----------------------|--------------|\n",
        "| August    | 01/08/2024 | Thursday        | 14              |                       | Reel/Video   |\n",
        "| August    | 02/08/2024 | Friday          | 34              |                       |              |\n",
        "| August    | 03/08/2024 | Saturday        | 26              |                       |              |\n",
        "| August    | 04/08/2024 | Sunday          | 38              |                       | Post         |\n",
        "| August    | 05/08/2024 | Monday          | 40              |                       |              |\n",
        "| August    | 06/08/2024 | Tuesday         | 23              |                       | Reel/Video   |\n",
        "| August    | 07/08/2024 | Wednesday       | 26              |                       |              |\n",
        "| August    | 08/08/2024 | Thursday        | 25              |                       | Reel/Video   |\n",
        "| August    | 09/08/2024 | Friday          | 24              | 6000                  |              |\n",
        "| August    | 10/08/2024 | Saturday        | 6               |                       |              |\n",
        "| August    | 11/08/2024 | Sunday          | 38              |                       | Post         |\n",
        "| August    | 12/08/2024 | Monday          | 34              |                       |              |\n",
        "| August    | 13/08/2024 | Tuesday         | 37              |                       | Reel/Video   |\n",
        "| August    | 14/08/2024 | Wednesday       | 18              |                       |              |\n",
        "| August    | 15/08/2024 | Thursday        | 21              |                       | Reel/Video   |\n",
        "| August    | 16/08/2024 | Friday          | 23              |                       |              |\n",
        "| August    | 17/08/2024 | Saturday        | 11              |                       |              |\n",
        "| August    | 18/08/2024 | Sunday          | 38              |                       | Post         |\n",
        "| August    | 19/08/2024 | Monday          | 31              |                       |              |\n",
        "| August    | 20/08/2024 | Tuesday         | 42              |                       | Reel/Video   |\n",
        "| August    | 21/08/2024 | Wednesday       | 44              |                       |              |\n",
        "| August    | 22/08/2024 | Thursday        | 33              |                       | Reel/Video   |\n",
        "| August    | 23/08/2024 | Friday          | 20              |                       |              |\n",
        "| August    | 24/08/2024 | Saturday        | 27              |                       |              |\n",
        "| August    | 25/08/2024 | Sunday          | 22              |                       | Post         |\n",
        "| August    | 26/08/2024 | Monday          | 30              |                       |              |\n",
        "| August    | 27/08/2024 | Tuesday         | 23              |                       | Reel/Video   |\n",
        "| August    | 28/08/2024 | Wednesday       | 15              |                       |              |\n",
        "| August    | 29/08/2024 | Thursday        | 20              |                       | Reel/Video   |\n",
        "| August    | 30/08/2024 | Friday          | 25              |                       |              |\n",
        "| August    | 31/08/2024 | Saturday        | 15              |                       |              |\n",
        "| September | 01/09/2024 | Sunday          | 29              |                       | Post         |\n",
        "| September | 02/09/2024 | Monday          | 27              |                       |              |\n",
        "| September | 03/09/2024 | Tuesday         | 34              |                       | Reel/Video   |\n",
        "| September | 04/09/2024 | Wednesday       | 7               |                       |              |\n",
        "| September | 05/09/2024 | Thursday        | 10              |                       | Reel/Video   |\n",
        "| September | 06/09/2024 | Friday          | 20              |                       |              |\n",
        "| September | 07/09/2024 | Saturday        | 12              |                       |              |\n",
        "| September | 08/09/2024 | Sunday          | 12              |                       | Post         |\n",
        "| September | 09/09/2024 | Monday          | 30              |                       |              |\n",
        "| September | 10/09/2024 | Tuesday         | 13              |                       | Reel/Video   |\n",
        "| September | 11/09/2024 | Wednesday       | 13              |                       |              |\n",
        "| September | 12/09/2024 | Thursday        | 31              |                       | Reel/Video   |\n",
        "| September | 13/09/2024 | Friday          | 34              |                       |              |\n",
        "| September | 14/09/2024 | Saturday        | 24              |                       |              |\n",
        "| September | 15/09/2024 | Sunday          | 23              |                       | Post         |\n",
        "| September | 16/09/2024 | Monday          | 34              |                       |              |\n",
        "| September | 17/09/2024 | Tuesday         | 21              |                       | Reel/Video   |\n",
        "| September | 18/09/2024 | Wednesday       | 6               |                       |              |\n",
        "| September | 19/09/2024 | Thursday        | 47              | 7000                  | Reel/Video   |\n",
        "| September | 20/09/2024 | Friday          | 13              |                       |              |\n",
        "| September | 21/09/2024 | Saturday        | 18              |                       |              |\n",
        "| September | 22/09/2024 | Sunday          | 20              |                       | Post         |\n",
        "| September | 23/09/2024 | Monday          | 29              |                       |              |\n",
        "| September | 24/09/2024 | Tuesday         | 35              |                       | Reel/Video   |\n",
        "| September | 25/09/2024 | Wednesday       | 20              |                       |              |\n",
        "| September | 26/09/2024 | Thursday        | 33              |                       | Reel/Video   |\n",
        "| September | 27/09/2024 | Friday          | 38              |                       |              |\n",
        "| September | 28/09/2024 | Saturday        | 22              |                       |              |\n",
        "| September | 29/09/2024 | Sunday          | 22              |                       | Post         |\n",
        "| September | 30/09/2024 | Monday          | 20              |                       |              |\n",
        "| October   | 01/10/2024 | Tuesday         | 30              |                       | Reel/Video   |\n",
        "| October   | 02/10/2024 | Wednesday       | 22              |                       |              |\n",
        "| October   | 03/10/2024 | Thursday        | 33              |                       | Reel/Video   |\n",
        "| October   | 04/10/2024 | Friday          | 24              |                       |              |\n",
        "| October   | 05/10/2024 | Saturday        | 15              |                       |              |\n",
        "| October   | 06/10/2024 | Sunday          | 31              |                       | Post         |\n",
        "| October   | 07/10/2024 | Monday          | 27              |                       |              |\n",
        "| October   | 08/10/2024 | Tuesday         | 26              |                       | Reel/Video   |\n",
        "| October   | 09/10/2024 | Wednesday       | 32              | 7500                  |              |\n"
      ],
      "metadata": {
        "id": "oVWDZhmw5F54"
      }
    },
    {
      "cell_type": "code",
      "source": [
        "# Months\n",
        "months = ['August'] * 31 + ['September'] * 30 + ['October'] * 31 + ['November'] * 26\n",
        "\n",
        "# Dates\n",
        "dates = [\n",
        "    '01/08/2024', '02/08/2024', '03/08/2024', '04/08/2024', '05/08/2024', '06/08/2024', '07/08/2024',\n",
        "    '08/08/2024', '09/08/2024', '10/08/2024', '11/08/2024', '12/08/2024', '13/08/2024', '14/08/2024',\n",
        "    '15/08/2024', '16/08/2024', '17/08/2024', '18/08/2024', '19/08/2024', '20/08/2024', '21/08/2024',\n",
        "    '22/08/2024', '23/08/2024', '24/08/2024', '25/08/2024', '26/08/2024', '27/08/2024', '28/08/2024',\n",
        "    '29/08/2024', '30/08/2024', '31/08/2024', '01/09/2024', '02/09/2024', '03/09/2024', '04/09/2024',\n",
        "    '05/09/2024', '06/09/2024', '07/09/2024', '08/09/2024', '09/09/2024', '10/09/2024', '11/09/2024',\n",
        "    '12/09/2024', '13/09/2024', '14/09/2024', '15/09/2024', '16/09/2024', '17/09/2024', '18/09/2024',\n",
        "    '19/09/2024', '20/09/2024', '21/09/2024', '22/09/2024', '23/09/2024', '24/09/2024', '25/09/2024',\n",
        "    '26/09/2024', '27/09/2024', '28/09/2024', '29/09/2024', '30/09/2024', '01/10/2024', '02/10/2024',\n",
        "    '03/10/2024', '04/10/2024', '05/10/2024', '06/10/2024', '07/10/2024', '08/10/2024', '09/10/2024',\n",
        "    '10/10/2024', '11/10/2024', '12/10/2024', '13/10/2024', '14/10/2024', '15/10/2024', '16/10/2024',\n",
        "    '17/10/2024', '18/10/2024', '19/10/2024', '20/10/2024', '21/10/2024', '22/10/2024', '23/10/2024',\n",
        "    '24/10/2024', '25/10/2024', '26/10/2024', '27/10/2024', '28/10/2024', '29/10/2024', '30/10/2024',\n",
        "    '31/10/2024', '01/11/2024', '02/11/2024', '03/11/2024', '04/11/2024', '05/11/2024', '06/11/2024',\n",
        "    '07/11/2024', '08/11/2024', '09/11/2024', '10/11/2024', '11/11/2024', '12/11/2024', '13/11/2024',\n",
        "    '14/11/2024', '15/11/2024', '16/11/2024', '17/11/2024', '18/11/2024', '19/11/2024', '20/11/2024',\n",
        "    '21/11/2024', '22/11/2024', '23/11/2024', '24/11/2024', '25/11/2024', '26/11/2024'\n",
        "]\n",
        "\n",
        "# Days of the week (starting from Thursday, August 1, 2024)\n",
        "days_of_the_week = [\n",
        "    'Thursday', 'Friday', 'Saturday', 'Sunday', 'Monday', 'Tuesday', 'Wednesday',  # Agosto 1-7\n",
        "    'Thursday', 'Friday', 'Saturday', 'Sunday', 'Monday', 'Tuesday', 'Wednesday',  # Agosto 8-14\n",
        "    'Thursday', 'Friday', 'Saturday', 'Sunday', 'Monday', 'Tuesday', 'Wednesday',  # Agosto 15-21\n",
        "    'Thursday', 'Friday', 'Saturday', 'Sunday', 'Monday', 'Tuesday', 'Wednesday',  # Agosto 22-28\n",
        "    'Thursday', 'Friday', 'Saturday', 'Sunday', 'Monday', 'Tuesday', 'Wednesday',  # Agosto 29-31\n",
        "    'Thursday', 'Friday', 'Saturday', 'Sunday', 'Monday', 'Tuesday', 'Wednesday',  # Septiembre 1-7\n",
        "    'Thursday', 'Friday', 'Saturday', 'Sunday', 'Monday', 'Tuesday', 'Wednesday',  # Septiembre 8-14\n",
        "    'Thursday', 'Friday', 'Saturday', 'Sunday', 'Monday', 'Tuesday', 'Wednesday',  # Septiembre 15-21\n",
        "    'Thursday', 'Friday', 'Saturday', 'Sunday', 'Monday', 'Tuesday', 'Wednesday',\n",
        "    'Thursday', 'Friday', 'Saturday', 'Sunday', 'Monday', 'Tuesday', 'Wednesday',\n",
        "    'Thursday', 'Friday', 'Saturday', 'Sunday', 'Monday', 'Tuesday', 'Wednesday',\n",
        "    'Thursday', 'Friday', 'Saturday', 'Sunday', 'Monday', 'Tuesday', 'Wednesday',\n",
        "    'Thursday', 'Friday', 'Saturday', 'Sunday', 'Monday', 'Tuesday', 'Wednesday',\n",
        "    'Thursday', 'Friday', 'Saturday', 'Sunday', 'Monday', 'Tuesday', 'Wednesday',\n",
        "    'Thursday', 'Friday', 'Saturday', 'Sunday', 'Monday', 'Tuesday', 'Wednesday',\n",
        "    'Thursday', 'Friday', 'Saturday', 'Sunday', 'Monday', 'Tuesday', 'Wednesday',\n",
        "    'Thursday', 'Friday', 'Saturday', 'Sunday', 'Monday', 'Tuesday'\n",
        "]\n",
        "\n",
        "\n",
        "# Daily followers\n",
        "daily_followers = [\n",
        "    14, 34, 26, 38, 40, 23, 26, 25, 24, 6, 38, 34, 37, 18, 21, 23, 11, 38, 31, 42, 44, 33, 20,\n",
        "    27, 22, 30, 23, 15, 20, 25, 15, 29, 27, 34, 7, 10, 20, 12, 12, 30, 13, 13, 31, 34, 24, 23,\n",
        "    34, 21, 6, 47, 13, 18, 20, 29, 35, 20, 33, 38, 22, 22, 20, 30, 22, 33, 24, 15, 31, 27, 26,\n",
        "    32, 17, 4, 34, 26, 36, 28, 19, 15, 4, 2, 9, 7, 25, 49, 40, 17, 23, 29, 35, 47, 43, 20, 23,\n",
        "    22, 26, 12, 10, 9, 24, 21, 16, 21, 9, 12, 10, 7, 10, 19, 22, 1, 3, 9, 10, 5, 8, 13, 3, 9\n",
        "]\n",
        "\n",
        "# Accumulated followers\n",
        "accumulated_followers = [\n",
        "    None, None, None, None, None, None, None, None, 6000, None, None, None, None, None,\n",
        "    None, None, None, None, None, None, None, None, None, None, None, None, None, None,\n",
        "    None, None, None, None, None, None, None, None, None, None, None, None, None, None,\n",
        "    None, None, None, None, None, None, None, 7000, None, None, None, None, None, None,\n",
        "    None, None, None, None, None, None, None, None, None, None, None, None, None, 7500,\n",
        "    None, None, None, None, None, None, None, None, None, None, None, None, None, None,\n",
        "    None, None, None, None, None, None, 8000, None, None, None, None, None, None, None,\n",
        "    None, None, None, None, None, None, None, None, None, None, None, None, None, None,\n",
        "    None, None, None, None, None, None\n",
        "]\n",
        "\n",
        "\n",
        "\n",
        "# Content type\n",
        "content_type = [\n",
        "   'Reel/Video', None, None, 'Post', None, 'Reel/Video', None, 'Reel/Video', None, None, 'Post', None,\n",
        "   'Reel/Video', None, 'Reel/Video', None, None, 'Post', None, 'Reel/Video', None, 'Reel/Video', None,\n",
        "   None, 'Post', None, 'Reel/Video', None, 'Reel/Video', None, None, 'Post', None, 'Reel/Video', None,\n",
        "   'Reel/Video', None, None, 'Post', None, 'Reel/Video', None, 'Reel/Video', None, None, 'Post', None,\n",
        "   'Reel/Video', None, 'Reel/Video', None, None, 'Post', None, 'Reel/Video', None, 'Reel/Video', None,\n",
        "   None, 'Post', None, 'Reel/Video', None, 'Reel/Video', None, None, 'Post', None, 'Reel/Video', None,\n",
        "   'Reel/Video', None, None, 'Post', None, 'Reel/Video', None, 'Reel/Video', None, None, 'Post', None,\n",
        "   'Reel/Video', None, 'Reel/Video', None, None, 'Post', None, 'Reel/Video', None, 'Reel/Video', None,\n",
        "   None, 'Post', None, 'Reel/Video', None, 'Reel/Video', None, None, 'Post', None, 'Reel/Video', None,\n",
        "   'Reel/Video', None, None, 'Post', None, 'Reel/Video', None, 'Reel/Video', None, None, 'Post', None,\n",
        "   'Reel/Video'\n",
        "]\n",
        "\n",
        "\n"
      ],
      "metadata": {
        "id": "EaYuMd_dImEA"
      },
      "execution_count": null,
      "outputs": []
    },
    {
      "cell_type": "code",
      "source": [
        "print(len(months))\n",
        "print(len(dates))\n",
        "print(len(days_of_the_week))\n",
        "print(len(daily_followers))\n",
        "print(len(accumulated_followers))\n",
        "print(len(content_type))"
      ],
      "metadata": {
        "colab": {
          "base_uri": "https://localhost:8080/"
        },
        "id": "0DiXtTv15LbB",
        "outputId": "b243ba53-9759-4c38-b7c1-a7a04eb04652"
      },
      "execution_count": null,
      "outputs": [
        {
          "output_type": "stream",
          "name": "stdout",
          "text": [
            "118\n",
            "118\n",
            "118\n",
            "118\n",
            "118\n",
            "118\n"
          ]
        }
      ]
    },
    {
      "cell_type": "code",
      "source": [
        "import pandas as pd\n",
        "\n",
        "# Datos de la tabla\n",
        "data = {\n",
        "    'Month': months,\n",
        "    'Date': dates,\n",
        "    'Day of the Week': days_of_the_week,\n",
        "    'Daily Followers': daily_followers,\n",
        "    'Accumulated Followers': accumulated_followers,\n",
        "    'Content Type': content_type,\n",
        "}\n",
        "\n",
        "# Crear el DataFrame\n",
        "df_lordconejo = pd.DataFrame(data)\n",
        "\n",
        "# Mostrar los primeros 5 registros\n",
        "print(df_lordconejo.head())\n"
      ],
      "metadata": {
        "id": "vyD3rUGn_nC-",
        "colab": {
          "base_uri": "https://localhost:8080/"
        },
        "outputId": "a62fe69e-ba9c-4639-c5df-981548c571d6"
      },
      "execution_count": null,
      "outputs": [
        {
          "output_type": "stream",
          "name": "stdout",
          "text": [
            "    Month        Date Day of the Week  Daily Followers  Accumulated Followers  \\\n",
            "0  August  01/08/2024        Thursday               14                    NaN   \n",
            "1  August  02/08/2024          Friday               34                    NaN   \n",
            "2  August  03/08/2024        Saturday               26                    NaN   \n",
            "3  August  04/08/2024          Sunday               38                    NaN   \n",
            "4  August  05/08/2024          Monday               40                    NaN   \n",
            "\n",
            "  Content Type  \n",
            "0   Reel/Video  \n",
            "1         None  \n",
            "2         None  \n",
            "3         Post  \n",
            "4         None  \n"
          ]
        }
      ]
    },
    {
      "cell_type": "code",
      "source": [
        "# Información general del DataFrame\n",
        "print(df_lordconejo.info())\n",
        "# Descripción estadística de las columnas numéricas\n",
        "print(df_lordconejo.describe())\n"
      ],
      "metadata": {
        "colab": {
          "base_uri": "https://localhost:8080/"
        },
        "id": "8M17gw2-PZL9",
        "outputId": "54742a97-0dca-43d9-cf05-a1ce95ac7ee4"
      },
      "execution_count": null,
      "outputs": [
        {
          "output_type": "stream",
          "name": "stdout",
          "text": [
            "<class 'pandas.core.frame.DataFrame'>\n",
            "RangeIndex: 118 entries, 0 to 117\n",
            "Data columns (total 6 columns):\n",
            " #   Column                 Non-Null Count  Dtype  \n",
            "---  ------                 --------------  -----  \n",
            " 0   Month                  118 non-null    object \n",
            " 1   Date                   118 non-null    object \n",
            " 2   Day of the Week        118 non-null    object \n",
            " 3   Daily Followers        118 non-null    int64  \n",
            " 4   Accumulated Followers  4 non-null      float64\n",
            " 5   Content Type           51 non-null     object \n",
            "dtypes: float64(1), int64(1), object(4)\n",
            "memory usage: 5.7+ KB\n",
            "None\n",
            "       Daily Followers  Accumulated Followers\n",
            "count       118.000000               4.000000\n",
            "mean         22.228814            7125.000000\n",
            "std          11.170329             853.912564\n",
            "min           1.000000            6000.000000\n",
            "25%          13.000000            6750.000000\n",
            "50%          22.000000            7250.000000\n",
            "75%          30.000000            7625.000000\n",
            "max          49.000000            8000.000000\n"
          ]
        }
      ]
    },
    {
      "cell_type": "code",
      "source": [
        "import matplotlib.pyplot as plt\n",
        "import seaborn as sns\n",
        "\n",
        "# Histograma para la distribución de seguidores diarios\n",
        "plt.figure(figsize=(8, 5))\n",
        "sns.histplot(df_lordconejo['Daily Followers'].dropna(), kde=True)\n",
        "plt.title('Distribución de Seguidores Diarios')\n",
        "plt.show()\n"
      ],
      "metadata": {
        "colab": {
          "base_uri": "https://localhost:8080/",
          "height": 488
        },
        "id": "ctzD9fDOPhBX",
        "outputId": "214830b6-49de-4793-db70-e64178b016e6"
      },
      "execution_count": null,
      "outputs": [
        {
          "output_type": "display_data",
          "data": {
            "text/plain": [
              "<Figure size 800x500 with 1 Axes>"
            ],
            "image/png": "[encoded data removed]"
          },
          "metadata": {}
        }
      ]
    },
    {
      "cell_type": "code",
      "source": [
        "  # Agrupamos por mes y calculamos la media de los Daily Followers\n",
        "  media_seguidores_por_mes = df_lordconejo.groupby('Month')['Daily Followers'].mean()"
      ],
      "metadata": {
        "id": "M6DtOaTJPkYn"
      },
      "execution_count": null,
      "outputs": []
    },
    {
      "cell_type": "code",
      "source": [
        "media_seguidores_por_mes"
      ],
      "metadata": {
        "colab": {
          "base_uri": "https://localhost:8080/",
          "height": 241
        },
        "id": "7lwRQYlj64D7",
        "outputId": "2a5a0304-1d91-4382-cea7-420ebf43ab71"
      },
      "execution_count": null,
      "outputs": [
        {
          "output_type": "execute_result",
          "data": {
            "text/plain": [
              "Month\n",
              "August       26.548387\n",
              "November     12.846154\n",
              "October      24.806452\n",
              "September    23.233333\n",
              "Name: Daily Followers, dtype: float64"
            ],
            "text/html": [
              "<div>\n",
              "<style scoped>\n",
              "    .dataframe tbody tr th:only-of-type {\n",
              "        vertical-align: middle;\n",
              "    }\n",
              "\n",
              "    .dataframe tbody tr th {\n",
              "        vertical-align: top;\n",
              "    }\n",
              "\n",
              "    .dataframe thead th {\n",
              "        text-align: right;\n",
              "    }\n",
              "</style>\n",
              "<table border=\"1\" class=\"dataframe\">\n",
              "  <thead>\n",
              "    <tr style=\"text-align: right;\">\n",
              "      <th></th>\n",
              "      <th>Daily Followers</th>\n",
              "    </tr>\n",
              "    <tr>\n",
              "      <th>Month</th>\n",
              "      <th></th>\n",
              "    </tr>\n",
              "  </thead>\n",
              "  <tbody>\n",
              "    <tr>\n",
              "      <th>August</th>\n",
              "      <td>26.548387</td>\n",
              "    </tr>\n",
              "    <tr>\n",
              "      <th>November</th>\n",
              "      <td>12.846154</td>\n",
              "    </tr>\n",
              "    <tr>\n",
              "      <th>October</th>\n",
              "      <td>24.806452</td>\n",
              "    </tr>\n",
              "    <tr>\n",
              "      <th>September</th>\n",
              "      <td>23.233333</td>\n",
              "    </tr>\n",
              "  </tbody>\n",
              "</table>\n",
              "</div><br><label><b>dtype:</b> float64</label>"
            ]
          },
          "metadata": {},
          "execution_count": 7
        }
      ]
    },
    {
      "cell_type": "code",
      "source": [
        "def calcular_acumulado_seguidores(df, seguidores_iniciales):\n",
        "    \"\"\"\n",
        "    Rellena la columna 'Accumulated Followers' calculando el acumulado de 'Daily Followers'\n",
        "    a partir de un número de seguidores inicial.\n",
        "\n",
        "    Parámetros:\n",
        "        df (DataFrame): DataFrame con columnas 'Daily Followers' y 'Accumulated Followers'.\n",
        "        seguidores_iniciales (int): Número de seguidores iniciales.\n",
        "\n",
        "    Retorna:\n",
        "        DataFrame: DataFrame con la columna 'Accumulated Followers' actualizada.\n",
        "    \"\"\"\n",
        "    # Crear una lista para almacenar el acumulado\n",
        "    acumulado = []\n",
        "    total_seguidores = seguidores_iniciales\n",
        "\n",
        "    # Iterar sobre cada fila para calcular el acumulado\n",
        "    for seguidores_diarios in df['Daily Followers']:\n",
        "        total_seguidores += seguidores_diarios\n",
        "        acumulado.append(total_seguidores)\n",
        "\n",
        "    # Asignar los valores calculados a la columna 'Accumulated Followers'\n",
        "    df['Accumulated Followers'] = acumulado\n",
        "\n",
        "    return df\n",
        "\n"
      ],
      "metadata": {
        "id": "NwMg_sbW7LZb"
      },
      "execution_count": null,
      "outputs": []
    },
    {
      "cell_type": "code",
      "source": [
        "from google.colab import drive\n",
        "\n",
        "drive.mount('/content/drive')"
      ],
      "metadata": {
        "colab": {
          "base_uri": "https://localhost:8080/",
          "height": 321
        },
        "id": "ZO2eHVMKJ0NC",
        "outputId": "b26e00de-6c5e-4274-ea6c-925f777f8cba"
      },
      "execution_count": null,
      "outputs": [
        {
          "output_type": "error",
          "ename": "ValueError",
          "evalue": "mount failed",
          "traceback": [
            "\u001b[0;31m---------------------------------------------------------------------------\u001b[0m",
            "\u001b[0;31mValueError\u001b[0m                                Traceback (most recent call last)",
            "\u001b[0;32m<ipython-input-9-c36f5579453e>\u001b[0m in \u001b[0;36m<cell line: 3>\u001b[0;34m()\u001b[0m\n\u001b[1;32m      1\u001b[0m \u001b[0;32mfrom\u001b[0m \u001b[0mgoogle\u001b[0m\u001b[0;34m.\u001b[0m\u001b[0mcolab\u001b[0m \u001b[0;32mimport\u001b[0m \u001b[0mdrive\u001b[0m\u001b[0;34m\u001b[0m\u001b[0;34m\u001b[0m\u001b[0m\n\u001b[1;32m      2\u001b[0m \u001b[0;34m\u001b[0m\u001b[0m\n\u001b[0;32m----> 3\u001b[0;31m \u001b[0mdrive\u001b[0m\u001b[0;34m.\u001b[0m\u001b[0mmount\u001b[0m\u001b[0;34m(\u001b[0m\u001b[0;34m'/content/drive'\u001b[0m\u001b[0;34m)\u001b[0m\u001b[0;34m\u001b[0m\u001b[0;34m\u001b[0m\u001b[0m\n\u001b[0m",
            "\u001b[0;32m/usr/local/lib/python3.10/dist-packages/google/colab/drive.py\u001b[0m in \u001b[0;36mmount\u001b[0;34m(mountpoint, force_remount, timeout_ms, readonly)\u001b[0m\n\u001b[1;32m     98\u001b[0m \u001b[0;32mdef\u001b[0m \u001b[0mmount\u001b[0m\u001b[0;34m(\u001b[0m\u001b[0mmountpoint\u001b[0m\u001b[0;34m,\u001b[0m \u001b[0mforce_remount\u001b[0m\u001b[0;34m=\u001b[0m\u001b[0;32mFalse\u001b[0m\u001b[0;34m,\u001b[0m \u001b[0mtimeout_ms\u001b[0m\u001b[0;34m=\u001b[0m\u001b[0;36m120000\u001b[0m\u001b[0;34m,\u001b[0m \u001b[0mreadonly\u001b[0m\u001b[0;34m=\u001b[0m\u001b[0;32mFalse\u001b[0m\u001b[0;34m)\u001b[0m\u001b[0;34m:\u001b[0m\u001b[0;34m\u001b[0m\u001b[0;34m\u001b[0m\u001b[0m\n\u001b[1;32m     99\u001b[0m   \u001b[0;34m\"\"\"Mount your Google Drive at the specified mountpoint path.\"\"\"\u001b[0m\u001b[0;34m\u001b[0m\u001b[0;34m\u001b[0m\u001b[0m\n\u001b[0;32m--> 100\u001b[0;31m   return _mount(\n\u001b[0m\u001b[1;32m    101\u001b[0m       \u001b[0mmountpoint\u001b[0m\u001b[0;34m,\u001b[0m\u001b[0;34m\u001b[0m\u001b[0;34m\u001b[0m\u001b[0m\n\u001b[1;32m    102\u001b[0m       \u001b[0mforce_remount\u001b[0m\u001b[0;34m=\u001b[0m\u001b[0mforce_remount\u001b[0m\u001b[0;34m,\u001b[0m\u001b[0;34m\u001b[0m\u001b[0;34m\u001b[0m\u001b[0m\n",
            "\u001b[0;32m/usr/local/lib/python3.10/dist-packages/google/colab/drive.py\u001b[0m in \u001b[0;36m_mount\u001b[0;34m(mountpoint, force_remount, timeout_ms, ephemeral, readonly)\u001b[0m\n\u001b[1;32m    275\u001b[0m             \u001b[0;34m'https://research.google.com/colaboratory/faq.html#drive-timeout'\u001b[0m\u001b[0;34m\u001b[0m\u001b[0;34m\u001b[0m\u001b[0m\n\u001b[1;32m    276\u001b[0m         )\n\u001b[0;32m--> 277\u001b[0;31m       \u001b[0;32mraise\u001b[0m \u001b[0mValueError\u001b[0m\u001b[0;34m(\u001b[0m\u001b[0;34m'mount failed'\u001b[0m \u001b[0;34m+\u001b[0m \u001b[0mextra_reason\u001b[0m\u001b[0;34m)\u001b[0m\u001b[0;34m\u001b[0m\u001b[0;34m\u001b[0m\u001b[0m\n\u001b[0m\u001b[1;32m    278\u001b[0m     \u001b[0;32melif\u001b[0m \u001b[0mcase\u001b[0m \u001b[0;34m==\u001b[0m \u001b[0;36m4\u001b[0m\u001b[0;34m:\u001b[0m\u001b[0;34m\u001b[0m\u001b[0;34m\u001b[0m\u001b[0m\n\u001b[1;32m    279\u001b[0m       \u001b[0;31m# Terminate the DriveFS binary before killing bash.\u001b[0m\u001b[0;34m\u001b[0m\u001b[0;34m\u001b[0m\u001b[0m\n",
            "\u001b[0;31mValueError\u001b[0m: mount failed"
          ]
        }
      ]
    },
    {
      "cell_type": "code",
      "source": [
        "calcular_acumulado_seguidores(df=df_lordconejo, seguidores_iniciales=5750)"
      ],
      "metadata": {
        "id": "kY3fuzao_GGw"
      },
      "execution_count": null,
      "outputs": []
    },
    {
      "cell_type": "markdown",
      "source": [
        "Exrtreure les dades en format CSV"
      ],
      "metadata": {
        "id": "qvlg99azIim7"
      }
    },
    {
      "cell_type": "code",
      "source": [
        "# Convertir la columna 'Date' al tipo de datos datetime\n",
        "df_lordconejo['Date'] = pd.to_datetime(df_lordconejo['Date'], dayfirst=True)\n",
        "\n",
        "df_lordconejo_sin_ct_days = df_lordconejo.drop(columns=['Content Type', 'Days'])\n",
        "df_lordconejo_sin_ct_days.to_csv(path_or_buf='/content/drive/MyDrive/LORD_CONEJO/lordconejo_seguidores_manual.csv', sep=',', index=False)\n"
      ],
      "metadata": {
        "id": "qpopEpnjIiSJ"
      },
      "execution_count": null,
      "outputs": []
    },
    {
      "cell_type": "markdown",
      "source": [],
      "metadata": {
        "id": "2UYiL09-IiCC"
      }
    },
    {
      "cell_type": "code",
      "source": [
        "# Configurar el gráfico de línea\n",
        "plt.figure(figsize=(10, 6))\n",
        "plt.plot(df_lordconejo['Date'], df_lordconejo['Accumulated Followers'], marker='o', color='b', linestyle='-')\n",
        "plt.title('Frecuencia Temporal de Seguidores Acumulados')\n",
        "plt.xlabel('Fecha')\n",
        "plt.ylabel('Seguidores Acumulados')\n",
        "plt.grid(True)\n",
        "\n",
        "# Mostrar el gráfico\n",
        "plt.xticks(rotation=45)\n",
        "plt.tight_layout()\n",
        "plt.show()\n"
      ],
      "metadata": {
        "id": "LNOvLhU-_ZIV"
      },
      "execution_count": null,
      "outputs": []
    },
    {
      "cell_type": "code",
      "source": [
        "# Importar las bibliotecas necesarias\n",
        "import pandas as pd\n",
        "import numpy as np\n",
        "import matplotlib.pyplot as plt\n",
        "from sklearn.model_selection import train_test_split\n",
        "from sklearn.linear_model import LinearRegression\n",
        "from sklearn.metrics import mean_squared_error, r2_score\n",
        "\n",
        "# Asegúrate de que tu DataFrame tenga las columnas necesarias\n",
        "# df_lordconejo = pd.read_csv('nombre_del_archivo.csv')  # Cargar el archivo si es necesario\n",
        "\n",
        "# Convertir la columna 'Date' al tipo datetime\n",
        "df_lordconejo['Date'] = pd.to_datetime(df_lordconejo['Date'], dayfirst=True)\n",
        "\n",
        "# Convertir la columna 'Date' a un valor numérico (ej., días desde el inicio del dataset)\n",
        "df_lordconejo['Days'] = (df_lordconejo['Date'] - df_lordconejo['Date'].min()).dt.days\n",
        "\n",
        "# Definir las variables independiente (X) y dependiente (y)\n",
        "X = df_lordconejo[['Days']]\n",
        "y = df_lordconejo['Accumulated Followers']\n",
        "\n",
        "# Dividir los datos en conjuntos de entrenamiento y prueba\n",
        "X_train, X_test, y_train, y_test = train_test_split(X, y, test_size=0.2, random_state=42)\n",
        "\n",
        "# Crear y entrenar el modelo de regresión lineal\n",
        "model = LinearRegression()\n",
        "model.fit(X_train, y_train)\n",
        "\n",
        "# Realizar predicciones en el conjunto de prueba\n",
        "y_pred = model.predict(X_test)\n",
        "\n",
        "# Evaluar el modelo\n",
        "mse = mean_squared_error(y_test, y_pred)\n",
        "r2 = r2_score(y_test, y_pred)\n",
        "print(f'Error cuadrático medio (MSE): {mse}')\n",
        "print(f'Coeficiente de determinación (R^2): {r2}')\n",
        "\n",
        "# Graficar los resultados\n",
        "plt.figure(figsize=(10, 6))\n",
        "plt.scatter(X, y, color='blue', label='Datos reales')\n",
        "plt.plot(X, model.predict(X), color='red', label='Línea de regresión')\n",
        "plt.xlabel('Días desde el inicio')\n",
        "plt.ylabel('Seguidores Acumulados')\n",
        "plt.title('Regresión Lineal de Seguidores Acumulados a lo Largo del Tiempo')\n",
        "plt.legend()\n",
        "plt.grid(True)\n",
        "plt.show()\n"
      ],
      "metadata": {
        "id": "JVV58b3SCo1m"
      },
      "execution_count": null,
      "outputs": []
    },
    {
      "cell_type": "markdown",
      "source": [
        "Predir els seguidors en el futur."
      ],
      "metadata": {
        "id": "fHN80hMQDTV0"
      }
    },
    {
      "cell_type": "code",
      "source": [
        "model.predict([[365]])"
      ],
      "metadata": {
        "id": "9E1szdCBB038"
      },
      "execution_count": null,
      "outputs": []
    },
    {
      "cell_type": "code",
      "source": [
        "# Obtener coeficientes de la ecuación de la recta\n",
        "slope = model.coef_[0]  # Pendiente\n",
        "intercept = model.intercept_  # Intercepto\n",
        "\n",
        "print(f'Ecuación de la recta: y = {slope:.2f}x + {intercept:.2f}')"
      ],
      "metadata": {
        "id": "CFzavLHhFEQq"
      },
      "execution_count": null,
      "outputs": []
    },
    {
      "cell_type": "code",
      "source": [
        "seguidores_objetivo = 10000  # Número de seguidores\n",
        "dias = ( seguidores_objetivo - intercept ) / slope"
      ],
      "metadata": {
        "id": "FexX4w6PGEEA"
      },
      "execution_count": null,
      "outputs": []
    },
    {
      "cell_type": "code",
      "source": [
        "dias"
      ],
      "metadata": {
        "id": "E-2Uu3eHGegK"
      },
      "execution_count": null,
      "outputs": []
    },
    {
      "cell_type": "code",
      "source": [
        "fecha_final = df_lordconejo['Date'][0] + pd.Timedelta(days=dias)"
      ],
      "metadata": {
        "id": "g41k4wx_GfaN"
      },
      "execution_count": null,
      "outputs": []
    },
    {
      "cell_type": "code",
      "source": [
        "fecha_final"
      ],
      "metadata": {
        "id": "aC5jcPLxG0Hw"
      },
      "execution_count": null,
      "outputs": []
    },
    {
      "cell_type": "code",
      "source": [],
      "metadata": {
        "id": "11zHQndqKURo"
      },
      "execution_count": null,
      "outputs": []
    }
  ]
}