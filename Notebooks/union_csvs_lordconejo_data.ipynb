{
  "cells": [
    {
      "cell_type": "markdown",
      "metadata": {
        "id": "LuJApDAxPdT3"
      },
      "source": [
        "Unificamos los dos csv's con los datos repetidos y exrayemos un nuevo csv ya unificado del cual vamos a partir con todos los datos para que se vaya actualizando\n",
        "\n"
      ]
    },
    {
      "cell_type": "code",
      "execution_count": null,
      "metadata": {
        "id": "CThGXXGcSVXk"
      },
      "outputs": [
        {
          "ename": "SyntaxError",
          "evalue": "(unicode error) 'unicodeescape' codec can't decode bytes in position 2-3: truncated \\UXXXXXXXX escape (3461092161.py, line 3)",
          "output_type": "error",
          "traceback": [
            "\u001b[1;36m  Cell \u001b[1;32mIn[3], line 3\u001b[1;36m\u001b[0m\n\u001b[1;33m    manual_df = pd.read_csv('C:\\Users\\34695\\OneDrive - La Salle\\Documents\\lordconejo_data\\Data\\lordconejo_seguidores_manual (2).csv')\u001b[0m\n\u001b[1;37m                                                                                                                                    ^\u001b[0m\n\u001b[1;31mSyntaxError\u001b[0m\u001b[1;31m:\u001b[0m (unicode error) 'unicodeescape' codec can't decode bytes in position 2-3: truncated \\UXXXXXXXX escape\n"
          ]
        }
      ],
      "source": [
        "\n",
        "import pandas as pd\n",
        "\n",
        "manual_df = pd.read_csv(r'C:\\Users\\34695\\OneDrive - La Salle\\Documents\\lordconejo_data\\Data\\lordconejo_seguidores_manual (2).csv')\n",
        "follower_df = pd.read_csv(r'C:\\Users\\34695\\OneDrive - La Salle\\Documents\\lordconejo_data\\Data\\follower_data (3).csv')\n",
        "\n",
        "# Convert the 'Date' columns to datetime for easier manipulation\n",
        "manual_df['Date'] = pd.to_datetime(manual_df['Date'])\n",
        "follower_df['Date'] = pd.to_datetime(follower_df['Date'])\n",
        "\n",
        "# Merge the datasets, prioritizing follower_data.csv in case of duplicate dates\n",
        "merged_df = pd.concat([manual_df.set_index('Date'), follower_df.set_index('Date')],\n",
        "                      verify_integrity=False).reset_index()\n",
        "\n",
        "# Drop duplicates, keeping the last occurrence (follower_data.csv takes precedence)\n",
        "merged_df = merged_df.drop_duplicates(subset='Date', keep='last').sort_values(by='Date')\n",
        "\n",
        "# Calculate Accumulated Followers for follower_data.csv using manual data as base\n",
        "def calcular_acumulado_seguidores(df, seguidores_iniciales):\n",
        "    \"\"\"\n",
        "    Rellena la columna 'Accumulated Followers' calculando el acumulado de 'Daily Followers'\n",
        "    a partir de un número de seguidores inicial.\n",
        "\n",
        "    Parámetros:\n",
        "        df (DataFrame): DataFrame con columnas 'Daily Followers' y 'Accumulated Followers'.\n",
        "        seguidores_iniciales (int): Número de seguidores iniciales.\n",
        "\n",
        "    Retorna:\n",
        "        DataFrame: DataFrame con la columna 'Accumulated Followers' actualizada.\n",
        "    \"\"\"\n",
        "    # Crear una lista para almacenar el acumulado\n",
        "    acumulado = []\n",
        "    total_seguidores = seguidores_iniciales\n",
        "\n",
        "    # Iterar sobre cada fila para calcular el acumulado\n",
        "    for seguidores_diarios in df['Daily Followers']:\n",
        "        total_seguidores += seguidores_diarios\n",
        "        acumulado.append(total_seguidores)\n",
        "\n",
        "    # Asignar los valores calculados a la columna 'Accumulated Followers'\n",
        "    df['Accumulated Followers'] = acumulado\n",
        "\n",
        "    return df\n",
        "\n",
        "calcular_acumulado_seguidores(df=merged_df, seguidores_iniciales=5750)\n",
        "\n",
        "# Save the merged dataframe for inspection\n",
        "merged_df.to_csv('/content/drive/MyDrive/LORD_CONEJO/merged_lordconejo_data.csv', index=False)"
      ]
    },
    {
      "cell_type": "code",
      "execution_count": null,
      "metadata": {
        "id": "RaQMVhMyTlXA"
      },
      "outputs": [],
      "source": []
    }
  ],
  "metadata": {
    "colab": {
      "provenance": []
    },
    "kernelspec": {
      "display_name": "Python 3",
      "name": "python3"
    },
    "language_info": {
      "codemirror_mode": {
        "name": "ipython",
        "version": 3
      },
      "file_extension": ".py",
      "mimetype": "text/x-python",
      "name": "python",
      "nbconvert_exporter": "python",
      "pygments_lexer": "ipython3",
      "version": "3.10.2"
    }
  },
  "nbformat": 4,
  "nbformat_minor": 0
}
