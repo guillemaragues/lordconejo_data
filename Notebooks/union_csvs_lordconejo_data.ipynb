{
  "cells": [
    {
      "cell_type": "markdown",
      "metadata": {
        "id": "LuJApDAxPdT3"
      },
      "source": [
        "Unificamos los dos csv's con los datos repetidos y exrayemos un nuevo csv ya unificado del cual vamos a partir con todos los datos para que se vaya actualizando\n",
        "\n"
      ]
    },
    {
      "cell_type": "code",
      "execution_count": null,
      "metadata": {
        "colab": {
          "base_uri": "https://localhost:8080/"
        },
        "id": "PHFYEm8GSyYx",
        "outputId": "27ed9d73-5b43-42c5-e7cb-5b553a27da05"
      },
      "outputs": [
        {
          "name": "stdout",
          "output_type": "stream",
          "text": [
            "Mounted at /content/drive\n"
          ]
        }
      ],
      "source": [
        "from google.colab import drive\n",
        "\n",
        "drive.mount('/content/drive')"
      ]
    },
    {
      "cell_type": "code",
      "execution_count": null,
      "metadata": {
        "id": "CThGXXGcSVXk"
      },
      "outputs": [],
      "source": [
        "\n",
        "import pandas as pd\n",
        "\n",
        "manual_df = pd.read_csv('/content/drive/MyDrive/LORD_CONEJO/lordconejo_seguidores_manual.csv')\n",
        "follower_df = pd.read_csv('/content/drive/MyDrive/LORD_CONEJO/follower_data.csv')\n",
        "\n",
        "# Convert the 'Date' columns to datetime for easier manipulation\n",
        "manual_df['Date'] = pd.to_datetime(manual_df['Date'])\n",
        "follower_df['Date'] = pd.to_datetime(follower_df['Date'])\n",
        "\n",
        "# Merge the datasets, prioritizing follower_data.csv in case of duplicate dates\n",
        "merged_df = pd.concat([manual_df.set_index('Date'), follower_df.set_index('Date')],\n",
        "                      verify_integrity=False).reset_index()\n",
        "\n",
        "# Drop duplicates, keeping the last occurrence (follower_data.csv takes precedence)\n",
        "merged_df = merged_df.drop_duplicates(subset='Date', keep='last').sort_values(by='Date')\n",
        "\n",
        "# Calculate Accumulated Followers for follower_data.csv using manual data as base\n",
        "def calcular_acumulado_seguidores(df, seguidores_iniciales):\n",
        "    \"\"\"\n",
        "    Rellena la columna 'Accumulated Followers' calculando el acumulado de 'Daily Followers'\n",
        "    a partir de un número de seguidores inicial.\n",
        "\n",
        "    Parámetros:\n",
        "        df (DataFrame): DataFrame con columnas 'Daily Followers' y 'Accumulated Followers'.\n",
        "        seguidores_iniciales (int): Número de seguidores iniciales.\n",
        "\n",
        "    Retorna:\n",
        "        DataFrame: DataFrame con la columna 'Accumulated Followers' actualizada.\n",
        "    \"\"\"\n",
        "    # Crear una lista para almacenar el acumulado\n",
        "    acumulado = []\n",
        "    total_seguidores = seguidores_iniciales\n",
        "\n",
        "    # Iterar sobre cada fila para calcular el acumulado\n",
        "    for seguidores_diarios in df['Daily Followers']:\n",
        "        total_seguidores += seguidores_diarios\n",
        "        acumulado.append(total_seguidores)\n",
        "\n",
        "    # Asignar los valores calculados a la columna 'Accumulated Followers'\n",
        "    df['Accumulated Followers'] = acumulado\n",
        "\n",
        "    return df\n",
        "\n",
        "calcular_acumulado_seguidores(df=merged_df, seguidores_iniciales=5750)\n",
        "\n",
        "# Save the merged dataframe for inspection\n",
        "merged_df.to_csv('/content/drive/MyDrive/LORD_CONEJO/merged_lordconejo_data.csv', index=False)"
      ]
    },
    {
      "cell_type": "code",
      "execution_count": null,
      "metadata": {
        "id": "RaQMVhMyTlXA"
      },
      "outputs": [],
      "source": []
    }
  ],
  "metadata": {
    "colab": {
      "provenance": []
    },
    "kernelspec": {
      "display_name": "Python 3",
      "name": "python3"
    },
    "language_info": {
      "name": "python"
    }
  },
  "nbformat": 4,
  "nbformat_minor": 0
}
