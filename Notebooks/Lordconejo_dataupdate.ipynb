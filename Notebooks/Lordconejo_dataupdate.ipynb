{
  "cells": [
    {
      "cell_type": "code",
      "execution_count": null,
      "metadata": {
        "colab": {
          "base_uri": "https://localhost:8080/"
        },
        "id": "Qefhso4cI3Ei",
        "outputId": "6827f762-8c2b-4442-990c-505b1614df63"
      },
      "outputs": [
        {
          "name": "stdout",
          "output_type": "stream",
          "text": [
            "Mounted at /content/drive\n"
          ]
        }
      ],
      "source": [
        "from google.colab import drive\n",
        "drive.mount('/content/drive', force_remount=True)"
      ]
    },
    {
      "cell_type": "code",
      "execution_count": null,
      "metadata": {
        "colab": {
          "base_uri": "https://localhost:8080/",
          "height": 376
        },
        "id": "1SGPUi_PqXNf",
        "outputId": "0aede555-a340-4cc9-f03e-46976738b205"
      },
      "outputs": [
        {
          "name": "stdout",
          "output_type": "stream",
          "text": [
            "Drive already mounted at /content/drive; to attempt to forcibly remount, call drive.mount(\"/content/drive\", force_remount=True).\n",
            "{'data': [{'name': 'impressions', 'period': 'day', 'title': 'Impressions', 'description': 'The number of times that your posts, stories, reels, videos and live videos were on screen, including in ads.', 'total_value': {'value': 4024}, 'id': '17841409297279102/insights/impressions/day'}, {'name': 'reach', 'period': 'day', 'title': 'Accounts reached', 'description': 'The number of unique accounts that have seen your content, at least once, including in ads. Content includes posts, stories, reels, videos and live videos. Reach is different from impressions, which may include multiple views of your content by the same accounts. This metric is estimated and in development.', 'total_value': {'value': 2859}, 'id': '17841409297279102/insights/reach/day'}, {'name': 'total_interactions', 'period': 'day', 'title': 'Content interactions', 'description': 'The total number of post interactions, story interactions, reels interactions, video interactions and live video interactions, including any interactions on boosted content.', 'total_value': {'value': 355}, 'id': '17841409297279102/insights/total_interactions/day'}, {'name': 'accounts_engaged', 'period': 'day', 'title': 'Accounts engaged', 'description': 'The number of accounts that have interacted with your content, including in ads. Content includes posts, stories, reels, videos and live videos. Interactions can include actions such as likes, saves, comments, shares or replies. These metrics are estimated and in development.', 'total_value': {'value': 209}, 'id': '17841409297279102/insights/accounts_engaged/day'}, {'name': 'likes', 'period': 'day', 'title': 'Likes', 'description': 'The number of likes on your posts, reels and videos.', 'total_value': {'value': 226}, 'id': '17841409297279102/insights/likes/day'}, {'name': 'comments', 'period': 'day', 'title': 'Comments', 'description': 'The number of comments on your posts, reels, videos and live videos.', 'total_value': {'value': 80}, 'id': '17841409297279102/insights/comments/day'}, {'name': 'saves', 'period': 'day', 'title': 'Saves', 'description': 'The number of saves of your posts, reels and videos.', 'total_value': {'value': 46}, 'id': '17841409297279102/insights/saves/day'}, {'name': 'shares', 'period': 'day', 'title': 'Shares', 'description': 'The number of shares of your posts, stories, reels, videos and live videos.', 'total_value': {'value': 3}, 'id': '17841409297279102/insights/shares/day'}, {'name': 'replies', 'period': 'day', 'title': 'Replies', 'description': 'The number of replies that you received from your story, including text replies and quick reaction replies.', 'total_value': {'value': 0}, 'id': '17841409297279102/insights/replies/day'}, {'name': 'follows_and_unfollows', 'period': 'day', 'title': 'Follows and unfollows', 'description': 'The number of accounts that followed you and the number of accounts that unfollowed you or left Instagram in the selected time period.', 'id': '17841409297279102/insights/follows_and_unfollows/day'}, {'name': 'profile_links_taps', 'period': 'day', 'title': 'Profile links taps', 'description': 'The number of taps on your business address, call button, email button and text button.', 'total_value': {'value': 0}, 'id': '17841409297279102/insights/profile_links_taps/day'}], 'paging': {'previous': 'https://graph.facebook.com/v21.0/17841409297279102/insights?access_token=EABCSxik8s3MBO8eRV4tn35D1F04QlQjsHVpAgI8fm6xPgDtHjOu3moesB15eiRuH8EzwToIGIdMLf3P14gVDxpuVFlv2juBxTCA1jSF0xOGofBNypKvTDu2X5qJNu7ExpDZAjX1Dbvz3HCH0RIUSZCqXMWpnPbOMILRxrpDZBS7eKLmAGd2vaTT3R4jLtqEsqJDQ6K4JRqQWVgFWaoLKVURzwZDZD&metric=impressions%2Creach%2Ctotal_interactions%2Caccounts_engaged%2Clikes%2Ccomments%2Csaves%2Cshares%2Creplies%2Cfollows_and_unfollows%2Cprofile_links_taps&metric_type=total_value&period=day&since=1737130578&until=1737303378', 'next': 'https://graph.facebook.com/v21.0/17841409297279102/insights?access_token=EABCSxik8s3MBO8eRV4tn35D1F04QlQjsHVpAgI8fm6xPgDtHjOu3moesB15eiRuH8EzwToIGIdMLf3P14gVDxpuVFlv2juBxTCA1jSF0xOGofBNypKvTDu2X5qJNu7ExpDZAjX1Dbvz3HCH0RIUSZCqXMWpnPbOMILRxrpDZBS7eKLmAGd2vaTT3R4jLtqEsqJDQ6K4JRqQWVgFWaoLKVURzwZDZD&metric=impressions%2Creach%2Ctotal_interactions%2Caccounts_engaged%2Clikes%2Ccomments%2Csaves%2Cshares%2Creplies%2Cfollows_and_unfollows%2Cprofile_links_taps&metric_type=total_value&period=day&since=1737476180&until=1737648980'}}\n"
          ]
        },
        {
          "ename": "KeyError",
          "evalue": "'values'",
          "output_type": "error",
          "traceback": [
            "\u001b[0;31m---------------------------------------------------------------------------\u001b[0m",
            "\u001b[0;31mKeyError\u001b[0m                                  Traceback (most recent call last)",
            "\u001b[0;32m<ipython-input-13-7f95441b1347>\u001b[0m in \u001b[0;36m<cell line: 0>\u001b[0;34m()\u001b[0m\n\u001b[1;32m    107\u001b[0m     \u001b[0;31m# Nombre del archivo CSV\u001b[0m\u001b[0;34m\u001b[0m\u001b[0;34m\u001b[0m\u001b[0m\n\u001b[1;32m    108\u001b[0m     \u001b[0mCSV_FILE\u001b[0m \u001b[0;34m=\u001b[0m \u001b[0;34m\"/content/drive/MyDrive/LORD_CONEJO/merged_lordconejo_data.csv\"\u001b[0m\u001b[0;34m\u001b[0m\u001b[0;34m\u001b[0m\u001b[0m\n\u001b[0;32m--> 109\u001b[0;31m     \u001b[0mmain\u001b[0m\u001b[0;34m(\u001b[0m\u001b[0;34m)\u001b[0m\u001b[0;34m\u001b[0m\u001b[0;34m\u001b[0m\u001b[0m\n\u001b[0m",
            "\u001b[0;32m<ipython-input-13-7f95441b1347>\u001b[0m in \u001b[0;36mmain\u001b[0;34m()\u001b[0m\n\u001b[1;32m     82\u001b[0m         \u001b[0;32mif\u001b[0m \u001b[0;32mnot\u001b[0m \u001b[0mdata\u001b[0m\u001b[0;34m:\u001b[0m\u001b[0;34m\u001b[0m\u001b[0;34m\u001b[0m\u001b[0m\n\u001b[1;32m     83\u001b[0m             \u001b[0;32mbreak\u001b[0m\u001b[0;34m\u001b[0m\u001b[0;34m\u001b[0m\u001b[0m\n\u001b[0;32m---> 84\u001b[0;31m         \u001b[0mnew_data\u001b[0m \u001b[0;34m=\u001b[0m \u001b[0mprocess_data\u001b[0m\u001b[0;34m(\u001b[0m\u001b[0mdata\u001b[0m\u001b[0;34m)\u001b[0m\u001b[0;34m\u001b[0m\u001b[0;34m\u001b[0m\u001b[0m\n\u001b[0m\u001b[1;32m     85\u001b[0m         \u001b[0mall_data\u001b[0m \u001b[0;34m=\u001b[0m \u001b[0mpd\u001b[0m\u001b[0;34m.\u001b[0m\u001b[0mconcat\u001b[0m\u001b[0;34m(\u001b[0m\u001b[0;34m[\u001b[0m\u001b[0mall_data\u001b[0m\u001b[0;34m,\u001b[0m \u001b[0mnew_data\u001b[0m\u001b[0;34m]\u001b[0m\u001b[0;34m,\u001b[0m \u001b[0mignore_index\u001b[0m\u001b[0;34m=\u001b[0m\u001b[0;32mTrue\u001b[0m\u001b[0;34m)\u001b[0m\u001b[0;34m\u001b[0m\u001b[0;34m\u001b[0m\u001b[0m\n\u001b[1;32m     86\u001b[0m \u001b[0;34m\u001b[0m\u001b[0m\n",
            "\u001b[0;32m<ipython-input-13-7f95441b1347>\u001b[0m in \u001b[0;36mprocess_data\u001b[0;34m(data)\u001b[0m\n\u001b[1;32m     27\u001b[0m \u001b[0;31m# Función para procesar los datos de la API y convertirlos al formato solicitado\u001b[0m\u001b[0;34m\u001b[0m\u001b[0;34m\u001b[0m\u001b[0m\n\u001b[1;32m     28\u001b[0m \u001b[0;32mdef\u001b[0m \u001b[0mprocess_data\u001b[0m\u001b[0;34m(\u001b[0m\u001b[0mdata\u001b[0m\u001b[0;34m)\u001b[0m\u001b[0;34m:\u001b[0m\u001b[0;34m\u001b[0m\u001b[0;34m\u001b[0m\u001b[0m\n\u001b[0;32m---> 29\u001b[0;31m     \u001b[0minsights\u001b[0m \u001b[0;34m=\u001b[0m \u001b[0mdata\u001b[0m\u001b[0;34m[\u001b[0m\u001b[0;34m\"data\"\u001b[0m\u001b[0;34m]\u001b[0m\u001b[0;34m[\u001b[0m\u001b[0;36m0\u001b[0m\u001b[0;34m]\u001b[0m\u001b[0;34m[\u001b[0m\u001b[0;34m\"values\"\u001b[0m\u001b[0;34m]\u001b[0m\u001b[0;34m\u001b[0m\u001b[0;34m\u001b[0m\u001b[0m\n\u001b[0m\u001b[1;32m     30\u001b[0m     \u001b[0mdf\u001b[0m \u001b[0;34m=\u001b[0m \u001b[0mpd\u001b[0m\u001b[0;34m.\u001b[0m\u001b[0mDataFrame\u001b[0m\u001b[0;34m(\u001b[0m\u001b[0minsights\u001b[0m\u001b[0;34m)\u001b[0m\u001b[0;34m\u001b[0m\u001b[0;34m\u001b[0m\u001b[0m\n\u001b[1;32m     31\u001b[0m     \u001b[0mdf\u001b[0m\u001b[0;34m[\u001b[0m\u001b[0;34m\"end_time\"\u001b[0m\u001b[0;34m]\u001b[0m \u001b[0;34m=\u001b[0m \u001b[0mpd\u001b[0m\u001b[0;34m.\u001b[0m\u001b[0mto_datetime\u001b[0m\u001b[0;34m(\u001b[0m\u001b[0mdf\u001b[0m\u001b[0;34m[\u001b[0m\u001b[0;34m\"end_time\"\u001b[0m\u001b[0;34m]\u001b[0m\u001b[0;34m)\u001b[0m\u001b[0;34m\u001b[0m\u001b[0;34m\u001b[0m\u001b[0m\n",
            "\u001b[0;31mKeyError\u001b[0m: 'values'"
          ]
        }
      ],
      "source": [
        "import requests \n",
        "import pandas as pd\n",
        "import os\n",
        "from google.colab import drive\n",
        "import numpy \n",
        "\n",
        "drive.mount('/content/drive')\n",
        "\n",
        "# Función para obtener datos desde la API\n",
        "def fetch_insights(url, params):\n",
        "    try:\n",
        "        response = requests.get(url, params=params)\n",
        "        if response.status_code == 200:\n",
        "\n",
        "            print(response.json())\n",
        "            return response.json()\n",
        "        elif response.status_code == 400:\n",
        "            error_data = response.json().get(\"error\", {})\n",
        "            if error_data.get(\"code\") == 100 and \"last 30 days excluding the current day\" in error_data.get(\"message\", \"\"):\n",
        "                print(\"La métrica 'follower_count' solo está disponible para los últimos 30 días. Revisa el rango de fechas.\")\n",
        "            else:\n",
        "                raise Exception(f\"Error desconocido: {response.status_code}, {response.text}\")\n",
        "        else:\n",
        "            raise Exception(f\"Error al consultar la API: {response.status_code}, {response.text}\")\n",
        "    except requests.exceptions.RequestException as e:\n",
        "        raise Exception(f\"Error en la conexión: {e}\")\n",
        "\n",
        "# Función para procesar los datos de la API y convertirlos al formato solicitado\n",
        "def process_data(data):\n",
        "    insights = data[\"data\"][0][\"values\"]\n",
        "    df = pd.DataFrame(insights)\n",
        "    df[\"end_time\"] = pd.to_datetime(df[\"end_time\"])\n",
        "\n",
        "    # Transformar al formato solicitado\n",
        "    df[\"Date\"] = df[\"end_time\"].dt.strftime('%d/%m/%Y')\n",
        "    df[\"Month\"] = df[\"end_time\"].dt.strftime('%B')\n",
        "    df[\"Day of the Week\"] = df[\"end_time\"].dt.strftime('%A')\n",
        "    df.rename(columns={\"value\": \"Daily Followers\"}, inplace=True)\n",
        "    df[\"Accumulated Followers\"] = None  # Inicializar vacío\n",
        "\n",
        "    # Reordenar columnas\n",
        "    df = df[[\"Month\", \"Date\", \"Day of the Week\", \"Daily Followers\", \"Accumulated Followers\"]]\n",
        "    return df\n",
        "\n",
        "# Función para actualizar o crear el CSV\n",
        "def update_csv(new_data, csv_file):\n",
        "    os.makedirs(os.path.dirname(csv_file), exist_ok=True)\n",
        "\n",
        "    # Cargar el archivo existente si está disponible\n",
        "    if os.path.exists(csv_file):\n",
        "        existing_data = pd.read_csv(csv_file)\n",
        "        existing_data[\"Date\"] = pd.to_datetime(existing_data[\"Date\"], format='%Y-%m-%d')\n",
        "    else:\n",
        "        existing_data = pd.DataFrame(columns=[\"Month\", \"Date\", \"Day of the Week\", \"Daily Followers\", \"Accumulated Followers\"])\n",
        "\n",
        "    # Convertir las fechas en el nuevo conjunto de datos al mismo formato\n",
        "    new_data[\"Date\"] = pd.to_datetime(new_data[\"Date\"], format='%d/%m/%Y')\n",
        "\n",
        "    # Reemplazar valores de `Daily Followers` con 0 por nuevos datos si son diferentes de 0\n",
        "    for index, row in new_data.iterrows():\n",
        "        matching_row = existing_data[existing_data[\"Date\"] == row[\"Date\"]]\n",
        "        if not matching_row.empty:\n",
        "            if matching_row.iloc[0][\"Daily Followers\"] == 0 and row[\"Daily Followers\"] != 0:\n",
        "                existing_data.loc[matching_row.index, \"Daily Followers\"] = row[\"Daily Followers\"]\n",
        "        else:\n",
        "            # Si no hay fila existente para esta fecha, añadirla\n",
        "            existing_data = pd.concat([existing_data, pd.DataFrame([row])], ignore_index=True)\n",
        "\n",
        "      # Ordenar por fecha y guardar el resultado en el archivo CSV\n",
        "    combined_data = existing_data.sort_values(\"Date\").drop_duplicates(subset=\"Date\")\n",
        "    combined_data[\"Accumulated Followers\"] = combined_data[\"Daily Followers\"].cumsum() + 5764\n",
        "    combined_data.to_csv(csv_file, index=False)\n",
        "    return combined_data\n",
        "\n",
        "\n",
        "# Función principal para manejar la paginación y guardar datos\n",
        "def main():\n",
        "    url = BASE_URL\n",
        "    all_data = pd.DataFrame(columns=[\"Month\", \"Date\", \"Day of the Week\", \"Daily Followers\", \"Accumulated Followers\"])\n",
        "\n",
        "    while url:\n",
        "        data = fetch_insights(url, PARAMS)\n",
        "        if not data:\n",
        "            break\n",
        "        new_data = process_data(data)\n",
        "        all_data = pd.concat([all_data, new_data], ignore_index=True)\n",
        "\n",
        "        # Obtener la URL de la siguiente página si existe\n",
        "        url = data.get(\"paging\", {}).get(\"previous\", None)\n",
        "\n",
        "    # Actualizar o crear el archivo CSV\n",
        "    updated_data = update_csv(all_data, CSV_FILE)\n",
        "    print(\"Datos actualizados exitosamente.\")\n",
        "    print(updated_data)\n",
        "\n",
        "# Ejecutar el script\n",
        "if __name__ == \"__main__\":\n",
        "    # URL base de la API\n",
        "    BASE_URL = \"https://graph.facebook.com/v21.0/17841409297279102/insights\"\n",
        "    ACCESS_TOKEN = \"EABCSxik8s3MBO8eRV4tn35D1F04QlQjsHVpAgI8fm6xPgDtHjOu3moesB15eiRuH8EzwToIGIdMLf3P14gVDxpuVFlv2juBxTCA1jSF0xOGofBNypKvTDu2X5qJNu7ExpDZAjX1Dbvz3HCH0RIUSZCqXMWpnPbOMILRxrpDZBS7eKLmAGd2vaTT3R4jLtqEsqJDQ6K4JRqQWVgFWaoLKVURzwZDZD\"\n",
        "    PARAMS =  {\n",
        "        \"metric\": \"impressions,reach,total_interactions,accounts_engaged,likes,comments,saves,shares,replies,follows_and_unfollows,profile_links_taps\",\n",
        "        \"period\": \"day\",\n",
        "        \"metric_type\": \"total_value\",\n",
        "        \"access_token\": ACCESS_TOKEN,\n",
        "    }\n",
        "\n",
        "    # Nombre del archivo CSV\n",
        "    CSV_FILE = \"/content/drive/MyDrive/LORD_CONEJO/merged_lordconejo_data.csv\"\n",
        "    main()\n"
      ]
    },
    {
      "cell_type": "code",
      "execution_count": null,
      "metadata": {
        "id": "PbEzP1a2hsSr"
      },
      "outputs": [],
      "source": []
    }
  ],
  "metadata": {
    "colab": {
      "provenance": []
    },
    "kernelspec": {
      "display_name": "Python 3",
      "name": "python3"
    },
    "language_info": {
      "name": "python"
    }
  },
  "nbformat": 4,
  "nbformat_minor": 0
}
