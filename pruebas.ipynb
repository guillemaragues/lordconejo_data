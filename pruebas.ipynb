{
 "cells": [
  {
   "cell_type": "code",
   "execution_count": 1,
   "metadata": {},
   "outputs": [],
   "source": [
    "import requests\n",
    "import pandas as pd\n",
    "import datetime\n",
    "import time\n",
    "\n",
    "def fetch_insights(access_token, user_id, date_str):\n",
    "    \"\"\"\n",
    "    Obtiene métricas de insights de Instagram para un usuario en una fecha específica.\n",
    "\n",
    "    Parámetros:\n",
    "    - access_token: Token de acceso a la API de Meta.\n",
    "    - user_id: ID de la cuenta de Instagram.\n",
    "    - date_str: Fecha en formato 'dd/mm/yyyy'.\n",
    "\n",
    "    Retorna:\n",
    "    - JSON con los datos obtenidos de la API.\n",
    "    \"\"\"\n",
    "    # Convertir la fecha a timestamp con hora 00:00:00 (inicio del día)\n",
    "    since_timestamp = int(time.mktime(datetime.datetime.strptime(date_str, '%d/%m/%Y').replace(hour=0, minute=0, second=0).timetuple()))\n",
    "\n",
    "    # Convertir la fecha a timestamp con hora 23:59:59 (final del día)\n",
    "    until_timestamp = int(time.mktime(datetime.datetime.strptime(date_str, '%d/%m/%Y').replace(hour=23, minute=59, second=59).timetuple()))\n",
    "\n",
    "    url = f\"https://graph.facebook.com/v22.0/{user_id}/insights\"\n",
    "\n",
    "    params = {\n",
    "        \"metric\": \"reach,total_interactions,accounts_engaged,likes,comments,saves,shares,replies,follows_and_unfollows,profile_links_taps\",\n",
    "        \"period\": \"day\",\n",
    "        \"metric_type\": \"total_value\",\n",
    "        \"access_token\": access_token,\n",
    "        \"since\": since_timestamp,  # Timestamp con hora 00:00:00\n",
    "        \"until\": until_timestamp    # Timestamp con hora 23:59:59\n",
    "    }\n",
    "\n",
    "    response = requests.get(url, params=params)\n",
    "\n",
    "    if response.status_code == 200:\n",
    "        return response.json()\n",
    "    else:\n",
    "        print(f\"Error en la solicitud para {date_str}: {response.json()}\")\n",
    "        return None"
   ]
  },
  {
   "cell_type": "code",
   "execution_count": 4,
   "metadata": {},
   "outputs": [
    {
     "name": "stdout",
     "output_type": "stream",
     "text": [
      "{'data': [{'name': 'reach', 'period': 'day', 'title': 'Accounts reached', 'description': 'The number of unique accounts that have seen your content, at least once, including in ads. Content includes posts, stories, reels, videos and live videos. Reach is different from impressions, which may include multiple views of your content by the same accounts. This metric is estimated and in development.', 'total_value': {'value': 3006}, 'id': '17841409297279102/insights/reach/day'}, {'name': 'total_interactions', 'period': 'day', 'title': 'Content interactions', 'description': 'The total number of post interactions, story interactions, reels interactions, video interactions and live video interactions, including any interactions on boosted content.', 'total_value': {'value': 336}, 'id': '17841409297279102/insights/total_interactions/day'}, {'name': 'accounts_engaged', 'period': 'day', 'title': 'Accounts engaged', 'description': 'The number of accounts that have interacted with your content, including in ads. Content includes posts, stories, reels, videos and live videos. Interactions can include actions such as likes, saves, comments, shares or replies. These metrics are estimated and in development.', 'total_value': {'value': 179}, 'id': '17841409297279102/insights/accounts_engaged/day'}, {'name': 'likes', 'period': 'day', 'title': 'Likes', 'description': 'The number of likes on your posts, reels and videos.', 'total_value': {'value': 185}, 'id': '17841409297279102/insights/likes/day'}, {'name': 'comments', 'period': 'day', 'title': 'Comments', 'description': 'The number of comments on your posts, reels, videos and live videos.', 'total_value': {'value': 118}, 'id': '17841409297279102/insights/comments/day'}, {'name': 'saves', 'period': 'day', 'title': 'Saves', 'description': 'The number of saves of your posts, reels and videos.', 'total_value': {'value': 31}, 'id': '17841409297279102/insights/saves/day'}, {'name': 'shares', 'period': 'day', 'title': 'Shares', 'description': 'The number of shares of your posts, stories, reels, videos and live videos.', 'total_value': {'value': 2}, 'id': '17841409297279102/insights/shares/day'}, {'name': 'replies', 'period': 'day', 'title': 'Replies', 'description': 'The number of replies that you received from your story, including text replies and quick reaction replies.', 'total_value': {'value': 0}, 'id': '17841409297279102/insights/replies/day'}, {'name': 'follows_and_unfollows', 'period': 'day', 'title': 'Follows and unfollows', 'description': 'The number of accounts that followed you and the number of accounts that unfollowed you or left Instagram in the selected time period.', 'id': '17841409297279102/insights/follows_and_unfollows/day'}, {'name': 'profile_links_taps', 'period': 'day', 'title': 'Profile links taps', 'description': 'The number of taps on your business address, call button, email button and text button.', 'total_value': {'value': 0}, 'id': '17841409297279102/insights/profile_links_taps/day'}], 'paging': {'previous': 'https://graph.facebook.com/v22.0/17841409297279102/insights?access_token=EABCSxik8s3MBOZCrZB3flLzErGhHtUJy3xHY3zsfxoV5KttoHvuZAIdYiH9bBh1dczyZBwrpZC3ZBvnGQKlmtaOE3VZB1ahZCVjHuhZC6mgzcmPq8ZCUlZATcb51PzfKr2RkkhthNcWzXxokZBMOJ3jBtZBOPMTt2ZAbCETSiwRpIO5YUrZBV42G34RC0q5I33TJelpO5DWrkXPAULCeBQ6ZA8V7LPwo0y6qZCT5ZA2GJZCnpMGsBmX&since=1736117999&until=1736204399&metric=reach%2Ctotal_interactions%2Caccounts_engaged%2Clikes%2Ccomments%2Csaves%2Cshares%2Creplies%2Cfollows_and_unfollows%2Cprofile_links_taps&metric_type=total_value&period=day', 'next': 'https://graph.facebook.com/v22.0/17841409297279102/insights?access_token=EABCSxik8s3MBOZCrZB3flLzErGhHtUJy3xHY3zsfxoV5KttoHvuZAIdYiH9bBh1dczyZBwrpZC3ZBvnGQKlmtaOE3VZB1ahZCVjHuhZC6mgzcmPq8ZCUlZATcb51PzfKr2RkkhthNcWzXxokZBMOJ3jBtZBOPMTt2ZAbCETSiwRpIO5YUrZBV42G34RC0q5I33TJelpO5DWrkXPAULCeBQ6ZA8V7LPwo0y6qZCT5ZA2GJZCnpMGsBmX&since=1736290800&until=1736377200&metric=reach%2Ctotal_interactions%2Caccounts_engaged%2Clikes%2Ccomments%2Csaves%2Cshares%2Creplies%2Cfollows_and_unfollows%2Cprofile_links_taps&metric_type=total_value&period=day'}}\n"
     ]
    }
   ],
   "source": [
    "\n",
    "access_token = \"EABCSxik8s3MBOZCrZB3flLzErGhHtUJy3xHY3zsfxoV5KttoHvuZAIdYiH9bBh1dczyZBwrpZC3ZBvnGQKlmtaOE3VZB1ahZCVjHuhZC6mgzcmPq8ZCUlZATcb51PzfKr2RkkhthNcWzXxokZBMOJ3jBtZBOPMTt2ZAbCETSiwRpIO5YUrZBV42G34RC0q5I33TJelpO5DWrkXPAULCeBQ6ZA8V7LPwo0y6qZCT5ZA2GJZCnpMGsBmX\"\n",
    "user_id = \"17841409297279102\"\n",
    "date_str = \"07/01/2025\"\n",
    "response = fetch_insights(access_token, user_id, date_str)\n",
    "print(response)"
   ]
  },
  {
   "cell_type": "code",
   "execution_count": null,
   "metadata": {},
   "outputs": [],
   "source": []
  }
 ],
 "metadata": {
  "kernelspec": {
   "display_name": "Python 3",
   "language": "python",
   "name": "python3"
  },
  "language_info": {
   "codemirror_mode": {
    "name": "ipython",
    "version": 3
   },
   "file_extension": ".py",
   "mimetype": "text/x-python",
   "name": "python",
   "nbconvert_exporter": "python",
   "pygments_lexer": "ipython3",
   "version": "3.10.2"
  }
 },
 "nbformat": 4,
 "nbformat_minor": 2
}
